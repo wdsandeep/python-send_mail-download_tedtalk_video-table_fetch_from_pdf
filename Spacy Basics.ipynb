{
 "cells": [
  {
   "cell_type": "code",
   "execution_count": 7,
   "id": "c1514d61",
   "metadata": {},
   "outputs": [],
   "source": [
    "import spacy"
   ]
  },
  {
   "cell_type": "code",
   "execution_count": 9,
   "id": "cad46e05",
   "metadata": {},
   "outputs": [],
   "source": [
    "nlp = spacy.load(\"en_core_web_sm\")"
   ]
  },
  {
   "cell_type": "code",
   "execution_count": 10,
   "id": "f7683971",
   "metadata": {},
   "outputs": [],
   "source": [
    "text = (\"Google was initially funded by an August 1998 investment of $100,000 from Andy Bechtolsheim,[17] co-founder of Sun Microsystems, a few weeks prior to September 7, 1998, the day Google was officially incorporated.[39][40] Google received money from three other angel investors in 1998: Amazon.com founder Jeff Bezos, Stanford University computer science professor David Cheriton, and entrepreneur Ram Shriram.[41] Between these initial investors, friends, and family Google raised around $1,000,000, which is what allowed them to open up their original shop in Menlo Park, California.\")"
   ]
  },
  {
   "cell_type": "code",
   "execution_count": 11,
   "id": "849427b2",
   "metadata": {},
   "outputs": [
    {
     "data": {
      "text/plain": [
       "'Google was initially funded by an August 1998 investment of $100,000 from Andy Bechtolsheim,[17] co-founder of Sun Microsystems, a few weeks prior to September 7, 1998, the day Google was officially incorporated.[39][40] Google received money from three other angel investors in 1998: Amazon.com founder Jeff Bezos, Stanford University computer science professor David Cheriton, and entrepreneur Ram Shriram.[41] Between these initial investors, friends, and family Google raised around $1,000,000, which is what allowed them to open up their original shop in Menlo Park, California.'"
      ]
     },
     "execution_count": 11,
     "metadata": {},
     "output_type": "execute_result"
    }
   ],
   "source": [
    "text"
   ]
  },
  {
   "cell_type": "code",
   "execution_count": 12,
   "id": "a4c4b11c",
   "metadata": {},
   "outputs": [],
   "source": [
    "doc = nlp(text)"
   ]
  },
  {
   "cell_type": "code",
   "execution_count": 28,
   "id": "0310c654",
   "metadata": {},
   "outputs": [
    {
     "name": "stdout",
     "output_type": "stream",
     "text": [
      "Google - PROPN\n",
      "was - AUX\n",
      "initially - ADV\n",
      "funded - VERB\n",
      "by - ADP\n",
      "an - DET\n",
      "August - PROPN\n",
      "1998 - NUM\n",
      "investment - NOUN\n",
      "of - ADP\n",
      "$ - SYM\n",
      "100,000 - NUM\n",
      "from - ADP\n",
      "Andy - PROPN\n",
      "Bechtolsheim,[17 - PROPN\n",
      "] - PUNCT\n",
      "co - NOUN\n",
      "- - NOUN\n",
      "founder - NOUN\n",
      "of - ADP\n",
      "Sun - PROPN\n",
      "Microsystems - PROPN\n",
      ", - PUNCT\n",
      "a - DET\n",
      "few - ADJ\n",
      "weeks - NOUN\n",
      "prior - ADV\n",
      "to - ADP\n",
      "September - PROPN\n",
      "7 - NUM\n",
      ", - PUNCT\n",
      "1998 - NUM\n",
      ", - PUNCT\n",
      "the - DET\n",
      "day - NOUN\n",
      "Google - PROPN\n",
      "was - AUX\n",
      "officially - ADV\n",
      "incorporated.[39][40 - VERB\n",
      "] - PUNCT\n",
      "Google - PROPN\n",
      "received - VERB\n",
      "money - NOUN\n",
      "from - ADP\n",
      "three - NUM\n",
      "other - ADJ\n",
      "angel - NOUN\n",
      "investors - NOUN\n",
      "in - ADP\n",
      "1998 - NUM\n",
      ": - PUNCT\n",
      "Amazon.com - PROPN\n",
      "founder - NOUN\n",
      "Jeff - PROPN\n",
      "Bezos - PROPN\n",
      ", - PUNCT\n",
      "Stanford - PROPN\n",
      "University - PROPN\n",
      "computer - NOUN\n",
      "science - NOUN\n",
      "professor - NOUN\n",
      "David - PROPN\n",
      "Cheriton - PROPN\n",
      ", - PUNCT\n",
      "and - CCONJ\n",
      "entrepreneur - NOUN\n",
      "Ram - PROPN\n",
      "Shriram.[41 - NOUN\n",
      "] - PUNCT\n",
      "Between - ADP\n",
      "these - DET\n",
      "initial - ADJ\n",
      "investors - NOUN\n",
      ", - PUNCT\n",
      "friends - NOUN\n",
      ", - PUNCT\n",
      "and - CCONJ\n",
      "family - NOUN\n",
      "Google - PROPN\n",
      "raised - VERB\n",
      "around - ADV\n",
      "$ - SYM\n",
      "1,000,000 - NUM\n",
      ", - PUNCT\n",
      "which - DET\n",
      "is - VERB\n",
      "what - PRON\n",
      "allowed - VERB\n",
      "them - PRON\n",
      "to - PART\n",
      "open - VERB\n",
      "up - ADP\n",
      "their - PRON\n",
      "original - ADJ\n",
      "shop - NOUN\n",
      "in - ADP\n",
      "Menlo - PROPN\n",
      "Park - PROPN\n",
      ", - PUNCT\n",
      "California - PROPN\n",
      ". - PUNCT\n"
     ]
    }
   ],
   "source": [
    "for token in doc:\n",
    "    print(str(token)+ \" - \" + str(token.pos_)  )"
   ]
  },
  {
   "cell_type": "code",
   "execution_count": 31,
   "id": "9cc0b387",
   "metadata": {},
   "outputs": [
    {
     "name": "stdout",
     "output_type": "stream",
     "text": [
      "August 1998 DATE\n",
      "100,000 MONEY\n",
      "Andy Bechtolsheim,[17 PERSON\n",
      "Sun Microsystems ORG\n",
      "a few weeks DATE\n",
      "September 7, 1998 DATE\n",
      "three CARDINAL\n",
      "1998 DATE\n",
      "Amazon.com ORG\n",
      "Jeff Bezos PERSON\n",
      "Stanford University ORG\n",
      "David Cheriton PERSON\n",
      "Google ORG\n",
      "around $1,000,000 MONEY\n",
      "Menlo Park GPE\n",
      "California GPE\n"
     ]
    }
   ],
   "source": [
    "for entity in doc.ents:\n",
    "    print(entity.text, entity.label_)"
   ]
  },
  {
   "cell_type": "code",
   "execution_count": null,
   "id": "e019def8",
   "metadata": {},
   "outputs": [],
   "source": []
  }
 ],
 "metadata": {
  "kernelspec": {
   "display_name": "Python 3 (ipykernel)",
   "language": "python",
   "name": "python3"
  },
  "language_info": {
   "codemirror_mode": {
    "name": "ipython",
    "version": 3
   },
   "file_extension": ".py",
   "mimetype": "text/x-python",
   "name": "python",
   "nbconvert_exporter": "python",
   "pygments_lexer": "ipython3",
   "version": "3.8.9"
  }
 },
 "nbformat": 4,
 "nbformat_minor": 5
}
